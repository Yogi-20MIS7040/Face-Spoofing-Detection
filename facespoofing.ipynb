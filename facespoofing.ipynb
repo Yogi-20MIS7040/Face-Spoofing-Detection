{
  "metadata": {
    "kernelspec": {
      "language": "python",
      "display_name": "Python 3",
      "name": "python3"
    },
    "language_info": {
      "name": "python",
      "version": "3.7.12",
      "mimetype": "text/x-python",
      "codemirror_mode": {
        "name": "ipython",
        "version": 3
      },
      "pygments_lexer": "ipython3",
      "nbconvert_exporter": "python",
      "file_extension": ".py"
    },
    "colab": {
      "name": "facespoofing.ipynb",
      "provenance": [],
      "collapsed_sections": [],
      "include_colab_link": true
    }
  },
  "nbformat_minor": 0,
  "nbformat": 4,
  "cells": [
    {
      "cell_type": "markdown",
      "metadata": {
        "id": "view-in-github",
        "colab_type": "text"
      },
      "source": [
        "<a href=\"https://colab.research.google.com/github/Yogi-20MIS7040/Face-Spoofing-Detection/blob/main/facespoofing.ipynb\" target=\"_parent\"><img src=\"https://colab.research.google.com/assets/colab-badge.svg\" alt=\"Open In Colab\"/></a>"
      ]
    },
    {
      "cell_type": "code",
      "source": [
        "import numpy as np\n",
        "import os\n",
        "import pathlib\n",
        "import skimage.io as io\n",
        "import skimage.transform as tf\n",
        "import skimage.color as color\n",
        "import torch"
      ],
      "metadata": {
        "id": "mfo64HOfg8nX"
      },
      "execution_count": 13,
      "outputs": []
    },
    {
      "cell_type": "code",
      "source": [
        "!pip install haroun\n",
        "# import my Library (Pytorch Framework)\n",
        "from haroun import Data, Model, ConvPool\n",
        "from haroun.augmentation import augmentation\n",
        "from haroun.losses import rmse"
      ],
      "metadata": {
        "colab": {
          "base_uri": "https://localhost:8080/"
        },
        "id": "7hZ05nuTg-Nm",
        "outputId": "bb543517-e481-4e0f-a858-f83fade7c031"
      },
      "execution_count": 14,
      "outputs": [
        {
          "output_type": "stream",
          "name": "stdout",
          "text": [
            "Looking in indexes: https://pypi.org/simple, https://us-python.pkg.dev/colab-wheels/public/simple/\n",
            "Requirement already satisfied: haroun in /usr/local/lib/python3.7/dist-packages (0.1.5)\n",
            "Requirement already satisfied: numpy in /usr/local/lib/python3.7/dist-packages (from haroun) (1.21.6)\n",
            "Requirement already satisfied: scikit-image in /usr/local/lib/python3.7/dist-packages (from haroun) (0.18.3)\n",
            "Requirement already satisfied: matplotlib in /usr/local/lib/python3.7/dist-packages (from haroun) (3.2.2)\n",
            "Requirement already satisfied: scikit-learn in /usr/local/lib/python3.7/dist-packages (from haroun) (1.0.2)\n",
            "Requirement already satisfied: python-dateutil>=2.1 in /usr/local/lib/python3.7/dist-packages (from matplotlib->haroun) (2.8.2)\n",
            "Requirement already satisfied: pyparsing!=2.0.4,!=2.1.2,!=2.1.6,>=2.0.1 in /usr/local/lib/python3.7/dist-packages (from matplotlib->haroun) (3.0.9)\n",
            "Requirement already satisfied: kiwisolver>=1.0.1 in /usr/local/lib/python3.7/dist-packages (from matplotlib->haroun) (1.4.2)\n",
            "Requirement already satisfied: cycler>=0.10 in /usr/local/lib/python3.7/dist-packages (from matplotlib->haroun) (0.11.0)\n",
            "Requirement already satisfied: typing-extensions in /usr/local/lib/python3.7/dist-packages (from kiwisolver>=1.0.1->matplotlib->haroun) (4.2.0)\n",
            "Requirement already satisfied: six>=1.5 in /usr/local/lib/python3.7/dist-packages (from python-dateutil>=2.1->matplotlib->haroun) (1.15.0)\n",
            "Requirement already satisfied: pillow!=7.1.0,!=7.1.1,>=4.3.0 in /usr/local/lib/python3.7/dist-packages (from scikit-image->haroun) (7.1.2)\n",
            "Requirement already satisfied: tifffile>=2019.7.26 in /usr/local/lib/python3.7/dist-packages (from scikit-image->haroun) (2021.11.2)\n",
            "Requirement already satisfied: networkx>=2.0 in /usr/local/lib/python3.7/dist-packages (from scikit-image->haroun) (2.6.3)\n",
            "Requirement already satisfied: PyWavelets>=1.1.1 in /usr/local/lib/python3.7/dist-packages (from scikit-image->haroun) (1.3.0)\n",
            "Requirement already satisfied: imageio>=2.3.0 in /usr/local/lib/python3.7/dist-packages (from scikit-image->haroun) (2.4.1)\n",
            "Requirement already satisfied: scipy>=1.0.1 in /usr/local/lib/python3.7/dist-packages (from scikit-image->haroun) (1.4.1)\n",
            "Requirement already satisfied: joblib>=0.11 in /usr/local/lib/python3.7/dist-packages (from scikit-learn->haroun) (1.1.0)\n",
            "Requirement already satisfied: threadpoolctl>=2.0.0 in /usr/local/lib/python3.7/dist-packages (from scikit-learn->haroun) (3.1.0)\n"
          ]
        }
      ]
    },
    {
      "cell_type": "code",
      "source": [
        "def load_data():\n",
        "  #In order to make the code work the path of the files should be specified (in this case the fake and the real photos have been uploaded in the content path of the google drive collab)\n",
        "    path = pathlib.Path.cwd().parent / \"/content\"\n",
        "    path = path / \"real_and_fake_face\"\n",
        "    images = []\n",
        "    labels = []\n",
        "\n",
        "\n",
        "    for directory in os.listdir(path):\n",
        "        data_path = path / directory\n",
        "        \n",
        "        for im in os.listdir(data_path)[:]:\n",
        "            image = io.imread(f\"{data_path}/{im}\")\n",
        "            image = tf.resize(image, (64, 64))\n",
        "            images.append(image)\n",
        "            if directory == \"training_fake\":\n",
        "                labels.append(\"fake\")\n",
        "            elif directory == \"training_real\":\n",
        "                labels.append(\"real\")\n",
        "    \n",
        "\n",
        "    images = np.array(images)\n",
        "    labels = np.array(labels)\n",
        "\n",
        "    images, labels = augmentation(images, labels, flip_y=True, flip_x=True, brightness=True)\n",
        "\n",
        "    return images, labels"
      ],
      "metadata": {
        "id": "T3pil10dhAC3"
      },
      "execution_count": 15,
      "outputs": []
    },
    {
      "cell_type": "code",
      "source": [
        "classes = {'real': 0, 'fake': 1}\n",
        "data = Data(loader=load_data(), classes=classes)\n",
        "data.shape()"
      ],
      "metadata": {
        "colab": {
          "base_uri": "https://localhost:8080/"
        },
        "id": "SW8VmCQ7j9xQ",
        "outputId": "2af1bf97-9fa6-474c-d5b6-aa2b955dc1db"
      },
      "execution_count": 16,
      "outputs": [
        {
          "output_type": "stream",
          "name": "stdout",
          "text": [
            "Data loaded successfully :)\n",
            "Images shape: (11520, 64, 64, 3) Labels shape: (11520,)\n",
            "\n"
          ]
        }
      ]
    },
    {
      "cell_type": "code",
      "source": [
        "device = torch.device(\"cuda\" if torch.cuda.is_available() else \"cpu\")\n",
        "data.dataset(split_size=0.05, shuffle=True, random_state=42,\n",
        "             images_format=torch.float32, labels_format=torch.float32,\n",
        "             permute=True, one_hot=True, device=device)"
      ],
      "metadata": {
        "colab": {
          "base_uri": "https://localhost:8080/"
        },
        "id": "4nirXPDrkDTC",
        "outputId": "9529a8cc-3396-4e4f-ee92-970e751292f4"
      },
      "execution_count": 17,
      "outputs": [
        {
          "output_type": "stream",
          "name": "stdout",
          "text": [
            "Train tensor shape: torch.Size([10944, 3, 64, 64]), torch.Size([10944, 2])\n",
            "Test tensor shape: torch.Size([288, 3, 64, 64]), torch.Size([288, 2])\n",
            "Validation tensor shape: torch.Size([288, 3, 64, 64]), torch.Size([288, 2])\n",
            "\n",
            "Dataset generated successfully :)\n"
          ]
        }
      ]
    },
    {
      "cell_type": "code",
      "source": [
        "class Network(torch.nn.Module):\n",
        "\n",
        "    def __init__(self):\n",
        "        super(Network, self).__init__()\n",
        "        self.input_norm = torch.nn.BatchNorm2d(3, affine=False)\n",
        "        self.layer1 = ConvPool(in_features=3, out_features=8)\n",
        "        self.layer2 = ConvPool(in_features=8, out_features=16)\n",
        "        self.layer3 = ConvPool(in_features=16, out_features=32)\n",
        "        self.layer4 = ConvPool(in_features=32, out_features=64)\n",
        "        self.layer5 = ConvPool(in_features=64, out_features=128)\n",
        "        self.layer6 = ConvPool(in_features=128, out_features=256)\n",
        "        \n",
        "        \n",
        "\n",
        "        self.net = torch.nn.Sequential(self.layer1, self.layer2, self.layer3, \n",
        "                                       self.layer4, self.layer5, self.layer6)\n",
        "            \n",
        "        \n",
        "        self.fc1 = torch.nn.Linear(in_features=256, out_features=128)\n",
        "        self.bn1 = torch.nn.BatchNorm1d(128)\n",
        "        \n",
        "        self.fc2 = torch.nn.Linear(in_features=128, out_features=32)\n",
        "        self.bn2 = torch.nn.BatchNorm1d(32)\n",
        "\n",
        "        self.fc3 = torch.nn.Linear(in_features=32, out_features=8)\n",
        "        self.bn3 = torch.nn.BatchNorm1d(8)\n",
        "\n",
        "        self.fc4 = torch.nn.Linear(in_features=8, out_features=2)\n",
        "\n",
        "\n",
        "        self.lin = torch.nn.Sequential(self.fc1, self.bn1, self.fc2, self.bn2,\n",
        "                                       self.fc3, self.bn3, self.fc4)  \n",
        "\n",
        "\n",
        "    def forward(self, X: torch.Tensor) -> torch.Tensor:\n",
        "        X = self.input_norm(X)\n",
        "        X = self.net(X)\n",
        "        X = X.reshape(X.size(0), -1)\n",
        "        X = self.lin(X)\n",
        "        X = torch.nn.functional.elu(X, alpha=1.0, inplace=False)\n",
        "        return X"
      ],
      "metadata": {
        "id": "0po9ZkFXkGQG"
      },
      "execution_count": 18,
      "outputs": []
    },
    {
      "cell_type": "code",
      "source": [
        "net = Network()\n",
        "# the epochs can be intcreased in order to make the model better \n",
        "AntiSpoofClassifier = Model(net, \"adam\", rmse, device)\n",
        "AntiSpoofClassifier.train(train_data=(data.train_inputs, data.train_outputs),\n",
        "                          val_data=(data.val_inputs, data.val_outputs),\n",
        "                          epochs=100, patience=20, batch_size=100, learning_rate=1.0E-3)"
      ],
      "metadata": {
        "colab": {
          "base_uri": "https://localhost:8080/"
        },
        "id": "mag9ce6_kInA",
        "outputId": "a0fb2fb5-41b7-4347-cec6-81fed45ddaa1"
      },
      "execution_count": 19,
      "outputs": [
        {
          "output_type": "stream",
          "name": "stdout",
          "text": [
            "Model initialized succssefully :)\n",
            "\n",
            "Train loop:\n",
            "\n",
            "\tEpoch: 1/100,  Train Loss: 0.0873,  Val Loss: 0.0635\n",
            "\tEpoch: 2/100,  Train Loss: 0.0278,  Val Loss: 0.00346\n",
            "\tEpoch: 3/100,  Train Loss: 0.00139,  Val Loss: 0.00119\n",
            "\tEpoch: 4/100,  Train Loss: 0.000845,  Val Loss: 0.000804\n",
            "\tEpoch: 5/100,  Train Loss: 0.00071,  Val Loss: 0.000375\n",
            "\tEpoch: 6/100,  Train Loss: 0.000571,  Val Loss: 0.000683 - No improvement -> Remaining patience: 19\n",
            "\tEpoch: 7/100,  Train Loss: 0.000447,  Val Loss: 0.000418 - No improvement -> Remaining patience: 18\n",
            "\tEpoch: 8/100,  Train Loss: 0.000418,  Val Loss: 0.000257\n",
            "\tEpoch: 9/100,  Train Loss: 0.000347,  Val Loss: 0.000429 - No improvement -> Remaining patience: 19\n",
            "\tEpoch: 10/100,  Train Loss: 0.000337,  Val Loss: 0.000178\n",
            "\tEpoch: 11/100,  Train Loss: 0.000275,  Val Loss: 0.000296 - No improvement -> Remaining patience: 19\n",
            "\tEpoch: 12/100,  Train Loss: 0.000299,  Val Loss: 0.000146\n",
            "\tEpoch: 13/100,  Train Loss: 0.000305,  Val Loss: 0.000363 - No improvement -> Remaining patience: 19\n",
            "\tEpoch: 14/100,  Train Loss: 0.000271,  Val Loss: 0.000212 - No improvement -> Remaining patience: 18\n",
            "\tEpoch: 15/100,  Train Loss: 0.000255,  Val Loss: 0.000278 - No improvement -> Remaining patience: 17\n",
            "\tEpoch: 16/100,  Train Loss: 0.000243,  Val Loss: 0.000297 - No improvement -> Remaining patience: 16\n",
            "\tEpoch: 17/100,  Train Loss: 0.000235,  Val Loss: 0.000374 - No improvement -> Remaining patience: 15\n",
            "\tEpoch: 18/100,  Train Loss: 0.000202,  Val Loss: 0.000336 - No improvement -> Remaining patience: 14\n",
            "\tEpoch: 19/100,  Train Loss: 0.000245,  Val Loss: 0.000305 - No improvement -> Remaining patience: 13\n",
            "\tEpoch: 20/100,  Train Loss: 0.000196,  Val Loss: 0.000147 - No improvement -> Remaining patience: 12\n",
            "\tEpoch: 21/100,  Train Loss: 0.000186,  Val Loss: 0.000357 - No improvement -> Remaining patience: 11\n",
            "\tEpoch: 22/100,  Train Loss: 0.000175,  Val Loss: 0.000105\n",
            "\tEpoch: 23/100,  Train Loss: 0.000199,  Val Loss: 0.000431 - No improvement -> Remaining patience: 19\n",
            "\tEpoch: 24/100,  Train Loss: 0.000182,  Val Loss: 0.000355 - No improvement -> Remaining patience: 18\n",
            "\tEpoch: 25/100,  Train Loss: 0.000172,  Val Loss: 0.000264 - No improvement -> Remaining patience: 17\n",
            "\tEpoch: 26/100,  Train Loss: 0.000262,  Val Loss: 0.000415 - No improvement -> Remaining patience: 16\n",
            "\tEpoch: 27/100,  Train Loss: 0.000173,  Val Loss: 0.000283 - No improvement -> Remaining patience: 15\n",
            "\tEpoch: 28/100,  Train Loss: 0.000139,  Val Loss: 3.42e-05\n",
            "\tEpoch: 29/100,  Train Loss: 0.000132,  Val Loss: 0.000151 - No improvement -> Remaining patience: 19\n",
            "\tEpoch: 30/100,  Train Loss: 0.000125,  Val Loss: 0.000413 - No improvement -> Remaining patience: 18\n",
            "\tEpoch: 31/100,  Train Loss: 0.000124,  Val Loss: 0.000273 - No improvement -> Remaining patience: 17\n",
            "\tEpoch: 32/100,  Train Loss: 0.000123,  Val Loss: 0.000188 - No improvement -> Remaining patience: 16\n",
            "\tEpoch: 33/100,  Train Loss: 0.000116,  Val Loss: 0.000317 - No improvement -> Remaining patience: 15\n",
            "\tEpoch: 34/100,  Train Loss: 0.000108,  Val Loss: 0.000166 - No improvement -> Remaining patience: 14\n",
            "\tEpoch: 35/100,  Train Loss: 9.57e-05,  Val Loss: 0.000156 - No improvement -> Remaining patience: 13\n",
            "\tEpoch: 36/100,  Train Loss: 0.000103,  Val Loss: 5.93e-05 - No improvement -> Remaining patience: 12\n",
            "\tEpoch: 37/100,  Train Loss: 8.85e-05,  Val Loss: 0.000142 - No improvement -> Remaining patience: 11\n",
            "\tEpoch: 38/100,  Train Loss: 9.76e-05,  Val Loss: 4.68e-05 - No improvement -> Remaining patience: 10\n",
            "\tEpoch: 39/100,  Train Loss: 7.94e-05,  Val Loss: 0.000307 - No improvement -> Remaining patience: 9\n",
            "\tEpoch: 40/100,  Train Loss: 0.000104,  Val Loss: 8.52e-05 - No improvement -> Remaining patience: 8\n",
            "\tEpoch: 41/100,  Train Loss: 9.5e-05,  Val Loss: 9.21e-05 - No improvement -> Remaining patience: 7\n",
            "\tEpoch: 42/100,  Train Loss: 9.41e-05,  Val Loss: 0.000177 - No improvement -> Remaining patience: 6\n",
            "\tEpoch: 43/100,  Train Loss: 0.000145,  Val Loss: 0.000123 - No improvement -> Remaining patience: 5\n",
            "\tEpoch: 44/100,  Train Loss: 9.6e-05,  Val Loss: 0.000734 - No improvement -> Remaining patience: 4\n",
            "\tEpoch: 45/100,  Train Loss: 0.000126,  Val Loss: 0.000228 - No improvement -> Remaining patience: 3\n",
            "\tEpoch: 46/100,  Train Loss: 0.000109,  Val Loss: 0.000131 - No improvement -> Remaining patience: 2\n",
            "\tEpoch: 47/100,  Train Loss: 9.44e-05,  Val Loss: 0.000116 - No improvement -> Remaining patience: 1\n",
            "\tEpoch: 48/100,  Train Loss: 8.88e-05,  Val Loss: 0.000383 - No improvement -> Remaining patience: 0\n",
            "\n",
            "Early stopping after 20 epochs of no improvements\n",
            "\n",
            "Train finished successfully in 1.75e+03s\n"
          ]
        }
      ]
    },
    {
      "cell_type": "code",
      "source": [
        "AntiSpoofClassifier.evaluate(test_data=(data.test_inputs, data.test_outputs))"
      ],
      "metadata": {
        "colab": {
          "base_uri": "https://localhost:8080/"
        },
        "id": "CIABxNM_kKzJ",
        "outputId": "1a53a533-0c29-470e-de8c-63434c68b893"
      },
      "execution_count": 20,
      "outputs": [
        {
          "output_type": "stream",
          "name": "stdout",
          "text": [
            "\n",
            "Test accuracy:100%\n",
            "Correct predictions: 288, Wrong predictions: 0\n"
          ]
        }
      ]
    },
    {
      "cell_type": "code",
      "source": [
        "AntiSpoofClassifier.plot()\n",
        "AntiSpoofClassifier.save(path=\"./\", checkpoint_name=\"module\")"
      ],
      "metadata": {
        "colab": {
          "base_uri": "https://localhost:8080/",
          "height": 330
        },
        "id": "XV-BB3zokNIQ",
        "outputId": "88d89d15-ee9b-4672-8fb6-429fb2245cb2"
      },
      "execution_count": 21,
      "outputs": [
        {
          "output_type": "display_data",
          "data": {
            "text/plain": [
              "<Figure size 432x288 with 1 Axes>"
            ],
            "image/png": "[encoded data removed]"
          },
          "metadata": {
            "needs_background": "light"
          }
        },
        {
          "output_type": "stream",
          "name": "stdout",
          "text": [
            "\n",
            "Checkpoint saved successfully :)\n"
          ]
        }
      ]
    }
  ]
}